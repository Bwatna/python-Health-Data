{
 "cells": [
  {
   "cell_type": "markdown",
   "id": "dc794a9e-8ccd-4b97-8169-7306281af21b",
   "metadata": {},
   "source": [
    "# First program \n",
    " This is our first progam that print a message "
   ]
  },
  {
   "cell_type": "markdown",
   "id": "a7c60450-aad8-48b3-bcd0-465fd8b887cb",
   "metadata": {},
   "source": [
    "# improt necessary package "
   ]
  },
  {
   "cell_type": "code",
   "execution_count": 1,
   "id": "f40a0bd7-e44f-4806-9286-f1df1c433da9",
   "metadata": {},
   "outputs": [],
   "source": [
    "#import pandas as pd in Jupyter notebook envrionment \n",
    "#import numpy as np in Jupyter notebook environment\n",
    "#import seaborn as sns in Jupyter notebook envrionment\n",
    "#import matplotlib.pyplot as plt in Jupyter notebook envrionment\n",
    "#import matplotlib in Jupyter notebook envrionment\n"
   ]
  },
  {
   "cell_type": "code",
   "execution_count": 3,
   "id": "17b9f3a1-45ab-4c94-b0a0-ed80bba67740",
   "metadata": {},
   "outputs": [],
   "source": [
    "import pandas as pd\n",
    "import numpy as np\n",
    "import matplotlib.pyplot as plt"
   ]
  },
  {
   "cell_type": "code",
   "execution_count": 4,
   "id": "e67f6074-3e07-4ff5-b2ee-37bba3fd2542",
   "metadata": {},
   "outputs": [
    {
     "name": "stdout",
     "output_type": "stream",
     "text": [
      "<module 'pandas' from 'C:\\\\Users\\\\USER\\\\anaconda3\\\\Lib\\\\site-packages\\\\pandas\\\\__init__.py'>\n"
     ]
    }
   ],
   "source": [
    "print(pd)"
   ]
  },
  {
   "cell_type": "markdown",
   "id": "5c83ec32-3a9d-4b84-91ef-bd605a11503b",
   "metadata": {},
   "source": [
    "# Load the dataset and inspect the first few rows to understand its structure"
   ]
  },
  {
   "cell_type": "code",
   "execution_count": 6,
   "id": "1487663d-364a-432f-8cc6-8363c21f8c21",
   "metadata": {},
   "outputs": [],
   "source": [
    "#pd = pd.read_excel(r'C:\\Users\\USER\\Documents.xlsx')"
   ]
  },
  {
   "cell_type": "code",
   "execution_count": 10,
   "id": "2101ff86-c87f-469e-9214-c5e91af60834",
   "metadata": {},
   "outputs": [
    {
     "data": {
      "text/plain": [
       "'C:\\\\Users\\\\USER'"
      ]
     },
     "execution_count": 10,
     "metadata": {},
     "output_type": "execute_result"
    }
   ],
   "source": [
    "pwd"
   ]
  },
  {
   "cell_type": "code",
   "execution_count": 12,
   "id": "457dcc90-e43a-410c-89f5-685249af259e",
   "metadata": {},
   "outputs": [],
   "source": [
    "coffedata = pd.read_excel(r'C:\\Users\\USER\\Documents\\Coffee Shop Sales.xlsx')"
   ]
  },
  {
   "cell_type": "raw",
   "id": "c877f16a-8a64-48cf-9a4a-f73919b08a04",
   "metadata": {},
   "source": [
    "print(coffedata)"
   ]
  },
  {
   "cell_type": "code",
   "execution_count": 13,
   "id": "37678467-58be-4668-9c16-4a4ec2a9bb2e",
   "metadata": {},
   "outputs": [
    {
     "data": {
      "text/html": [
       "<div>\n",
       "<style scoped>\n",
       "    .dataframe tbody tr th:only-of-type {\n",
       "        vertical-align: middle;\n",
       "    }\n",
       "\n",
       "    .dataframe tbody tr th {\n",
       "        vertical-align: top;\n",
       "    }\n",
       "\n",
       "    .dataframe thead th {\n",
       "        text-align: right;\n",
       "    }\n",
       "</style>\n",
       "<table border=\"1\" class=\"dataframe\">\n",
       "  <thead>\n",
       "    <tr style=\"text-align: right;\">\n",
       "      <th></th>\n",
       "      <th>transaction_id</th>\n",
       "      <th>transaction_date</th>\n",
       "      <th>transaction month</th>\n",
       "      <th>transaction day</th>\n",
       "      <th>transaction_time</th>\n",
       "      <th>transaction hour</th>\n",
       "      <th>transaction_qty</th>\n",
       "      <th>store_id</th>\n",
       "      <th>store_location</th>\n",
       "      <th>product_id</th>\n",
       "      <th>revenue</th>\n",
       "      <th>unit_price</th>\n",
       "      <th>product_category</th>\n",
       "      <th>product_type</th>\n",
       "      <th>product_detail</th>\n",
       "    </tr>\n",
       "  </thead>\n",
       "  <tbody>\n",
       "    <tr>\n",
       "      <th>0</th>\n",
       "      <td>1</td>\n",
       "      <td>2023-01-01</td>\n",
       "      <td>Jan</td>\n",
       "      <td>Sun</td>\n",
       "      <td>07:06:11</td>\n",
       "      <td>7</td>\n",
       "      <td>2</td>\n",
       "      <td>5</td>\n",
       "      <td>Lower Manhattan</td>\n",
       "      <td>32</td>\n",
       "      <td>6.0</td>\n",
       "      <td>3.0</td>\n",
       "      <td>Coffee</td>\n",
       "      <td>Gourmet brewed coffee</td>\n",
       "      <td>Ethiopia Rg</td>\n",
       "    </tr>\n",
       "    <tr>\n",
       "      <th>1</th>\n",
       "      <td>2</td>\n",
       "      <td>2023-01-01</td>\n",
       "      <td>Jan</td>\n",
       "      <td>Sun</td>\n",
       "      <td>07:08:56</td>\n",
       "      <td>7</td>\n",
       "      <td>2</td>\n",
       "      <td>5</td>\n",
       "      <td>Lower Manhattan</td>\n",
       "      <td>57</td>\n",
       "      <td>6.2</td>\n",
       "      <td>3.1</td>\n",
       "      <td>Tea</td>\n",
       "      <td>Brewed Chai tea</td>\n",
       "      <td>Spicy Eye Opener Chai Lg</td>\n",
       "    </tr>\n",
       "    <tr>\n",
       "      <th>2</th>\n",
       "      <td>3</td>\n",
       "      <td>2023-01-01</td>\n",
       "      <td>Jan</td>\n",
       "      <td>Sun</td>\n",
       "      <td>07:14:04</td>\n",
       "      <td>7</td>\n",
       "      <td>2</td>\n",
       "      <td>5</td>\n",
       "      <td>Lower Manhattan</td>\n",
       "      <td>59</td>\n",
       "      <td>9.0</td>\n",
       "      <td>4.5</td>\n",
       "      <td>Drinking Chocolate</td>\n",
       "      <td>Hot chocolate</td>\n",
       "      <td>Dark chocolate Lg</td>\n",
       "    </tr>\n",
       "    <tr>\n",
       "      <th>3</th>\n",
       "      <td>4</td>\n",
       "      <td>2023-01-01</td>\n",
       "      <td>Jan</td>\n",
       "      <td>Sun</td>\n",
       "      <td>07:20:24</td>\n",
       "      <td>7</td>\n",
       "      <td>1</td>\n",
       "      <td>5</td>\n",
       "      <td>Lower Manhattan</td>\n",
       "      <td>22</td>\n",
       "      <td>2.0</td>\n",
       "      <td>2.0</td>\n",
       "      <td>Coffee</td>\n",
       "      <td>Drip coffee</td>\n",
       "      <td>Our Old Time Diner Blend Sm</td>\n",
       "    </tr>\n",
       "    <tr>\n",
       "      <th>4</th>\n",
       "      <td>5</td>\n",
       "      <td>2023-01-01</td>\n",
       "      <td>Jan</td>\n",
       "      <td>Sun</td>\n",
       "      <td>07:22:41</td>\n",
       "      <td>7</td>\n",
       "      <td>2</td>\n",
       "      <td>5</td>\n",
       "      <td>Lower Manhattan</td>\n",
       "      <td>57</td>\n",
       "      <td>6.2</td>\n",
       "      <td>3.1</td>\n",
       "      <td>Tea</td>\n",
       "      <td>Brewed Chai tea</td>\n",
       "      <td>Spicy Eye Opener Chai Lg</td>\n",
       "    </tr>\n",
       "  </tbody>\n",
       "</table>\n",
       "</div>"
      ],
      "text/plain": [
       "   transaction_id transaction_date transaction month transaction day  \\\n",
       "0               1       2023-01-01               Jan             Sun   \n",
       "1               2       2023-01-01               Jan             Sun   \n",
       "2               3       2023-01-01               Jan             Sun   \n",
       "3               4       2023-01-01               Jan             Sun   \n",
       "4               5       2023-01-01               Jan             Sun   \n",
       "\n",
       "  transaction_time  transaction hour  transaction_qty  store_id  \\\n",
       "0         07:06:11                 7                2         5   \n",
       "1         07:08:56                 7                2         5   \n",
       "2         07:14:04                 7                2         5   \n",
       "3         07:20:24                 7                1         5   \n",
       "4         07:22:41                 7                2         5   \n",
       "\n",
       "    store_location  product_id  revenue  unit_price    product_category  \\\n",
       "0  Lower Manhattan          32      6.0         3.0              Coffee   \n",
       "1  Lower Manhattan          57      6.2         3.1                 Tea   \n",
       "2  Lower Manhattan          59      9.0         4.5  Drinking Chocolate   \n",
       "3  Lower Manhattan          22      2.0         2.0              Coffee   \n",
       "4  Lower Manhattan          57      6.2         3.1                 Tea   \n",
       "\n",
       "            product_type               product_detail  \n",
       "0  Gourmet brewed coffee                  Ethiopia Rg  \n",
       "1        Brewed Chai tea     Spicy Eye Opener Chai Lg  \n",
       "2          Hot chocolate            Dark chocolate Lg  \n",
       "3            Drip coffee  Our Old Time Diner Blend Sm  \n",
       "4        Brewed Chai tea     Spicy Eye Opener Chai Lg  "
      ]
     },
     "execution_count": 13,
     "metadata": {},
     "output_type": "execute_result"
    }
   ],
   "source": [
    "coffedata.head()"
   ]
  },
  {
   "cell_type": "code",
   "execution_count": 14,
   "id": "575d9e66-d2e4-4298-8350-47343ad5c230",
   "metadata": {},
   "outputs": [
    {
     "data": {
      "text/plain": [
       "(149116, 15)"
      ]
     },
     "execution_count": 14,
     "metadata": {},
     "output_type": "execute_result"
    }
   ],
   "source": [
    "coffedata.shape"
   ]
  },
  {
   "cell_type": "code",
   "execution_count": 15,
   "id": "aeab70a5-bc7e-4cc1-b879-c39b46ae528c",
   "metadata": {},
   "outputs": [
    {
     "name": "stdout",
     "output_type": "stream",
     "text": [
      "<class 'pandas.core.frame.DataFrame'>\n",
      "RangeIndex: 149116 entries, 0 to 149115\n",
      "Data columns (total 15 columns):\n",
      " #   Column             Non-Null Count   Dtype         \n",
      "---  ------             --------------   -----         \n",
      " 0   transaction_id     149116 non-null  int64         \n",
      " 1   transaction_date   149116 non-null  datetime64[ns]\n",
      " 2   transaction month  149116 non-null  object        \n",
      " 3   transaction day    149116 non-null  object        \n",
      " 4   transaction_time   149116 non-null  object        \n",
      " 5   transaction hour   149116 non-null  int64         \n",
      " 6   transaction_qty    149116 non-null  int64         \n",
      " 7   store_id           149116 non-null  int64         \n",
      " 8   store_location     149116 non-null  object        \n",
      " 9   product_id         149116 non-null  int64         \n",
      " 10  revenue            149116 non-null  float64       \n",
      " 11  unit_price         149116 non-null  float64       \n",
      " 12  product_category   149116 non-null  object        \n",
      " 13  product_type       149116 non-null  object        \n",
      " 14  product_detail     149116 non-null  object        \n",
      "dtypes: datetime64[ns](1), float64(2), int64(5), object(7)\n",
      "memory usage: 17.1+ MB\n"
     ]
    }
   ],
   "source": [
    "coffedata.info()"
   ]
  },
  {
   "cell_type": "markdown",
   "id": "704fc5f1-6b5b-49bb-962a-06cdc19c04ef",
   "metadata": {},
   "source": [
    "# Dataset overview"
   ]
  },
  {
   "cell_type": "code",
   "execution_count": 17,
   "id": "2ff8f8c7-8697-4c87-b07a-c2dfcc06235d",
   "metadata": {},
   "outputs": [
    {
     "data": {
      "text/html": [
       "<div>\n",
       "<style scoped>\n",
       "    .dataframe tbody tr th:only-of-type {\n",
       "        vertical-align: middle;\n",
       "    }\n",
       "\n",
       "    .dataframe tbody tr th {\n",
       "        vertical-align: top;\n",
       "    }\n",
       "\n",
       "    .dataframe thead th {\n",
       "        text-align: right;\n",
       "    }\n",
       "</style>\n",
       "<table border=\"1\" class=\"dataframe\">\n",
       "  <thead>\n",
       "    <tr style=\"text-align: right;\">\n",
       "      <th></th>\n",
       "      <th>transaction_id</th>\n",
       "      <th>transaction_date</th>\n",
       "      <th>transaction hour</th>\n",
       "      <th>transaction_qty</th>\n",
       "      <th>store_id</th>\n",
       "      <th>product_id</th>\n",
       "      <th>revenue</th>\n",
       "      <th>unit_price</th>\n",
       "    </tr>\n",
       "  </thead>\n",
       "  <tbody>\n",
       "    <tr>\n",
       "      <th>count</th>\n",
       "      <td>149116.000000</td>\n",
       "      <td>149116</td>\n",
       "      <td>149116.000000</td>\n",
       "      <td>149116.000000</td>\n",
       "      <td>149116.000000</td>\n",
       "      <td>149116.000000</td>\n",
       "      <td>149116.000000</td>\n",
       "      <td>149116.000000</td>\n",
       "    </tr>\n",
       "    <tr>\n",
       "      <th>mean</th>\n",
       "      <td>74737.371872</td>\n",
       "      <td>2023-04-15 11:50:32.173609984</td>\n",
       "      <td>11.735790</td>\n",
       "      <td>1.438276</td>\n",
       "      <td>5.342063</td>\n",
       "      <td>47.918607</td>\n",
       "      <td>4.686367</td>\n",
       "      <td>3.382219</td>\n",
       "    </tr>\n",
       "    <tr>\n",
       "      <th>min</th>\n",
       "      <td>1.000000</td>\n",
       "      <td>2023-01-01 00:00:00</td>\n",
       "      <td>6.000000</td>\n",
       "      <td>1.000000</td>\n",
       "      <td>3.000000</td>\n",
       "      <td>1.000000</td>\n",
       "      <td>0.800000</td>\n",
       "      <td>0.800000</td>\n",
       "    </tr>\n",
       "    <tr>\n",
       "      <th>25%</th>\n",
       "      <td>37335.750000</td>\n",
       "      <td>2023-03-06 00:00:00</td>\n",
       "      <td>9.000000</td>\n",
       "      <td>1.000000</td>\n",
       "      <td>3.000000</td>\n",
       "      <td>33.000000</td>\n",
       "      <td>3.000000</td>\n",
       "      <td>2.500000</td>\n",
       "    </tr>\n",
       "    <tr>\n",
       "      <th>50%</th>\n",
       "      <td>74727.500000</td>\n",
       "      <td>2023-04-24 00:00:00</td>\n",
       "      <td>11.000000</td>\n",
       "      <td>1.000000</td>\n",
       "      <td>5.000000</td>\n",
       "      <td>47.000000</td>\n",
       "      <td>3.750000</td>\n",
       "      <td>3.000000</td>\n",
       "    </tr>\n",
       "    <tr>\n",
       "      <th>75%</th>\n",
       "      <td>112094.250000</td>\n",
       "      <td>2023-05-30 00:00:00</td>\n",
       "      <td>15.000000</td>\n",
       "      <td>2.000000</td>\n",
       "      <td>8.000000</td>\n",
       "      <td>60.000000</td>\n",
       "      <td>6.000000</td>\n",
       "      <td>3.750000</td>\n",
       "    </tr>\n",
       "    <tr>\n",
       "      <th>max</th>\n",
       "      <td>149456.000000</td>\n",
       "      <td>2023-06-30 00:00:00</td>\n",
       "      <td>20.000000</td>\n",
       "      <td>8.000000</td>\n",
       "      <td>8.000000</td>\n",
       "      <td>87.000000</td>\n",
       "      <td>360.000000</td>\n",
       "      <td>45.000000</td>\n",
       "    </tr>\n",
       "    <tr>\n",
       "      <th>std</th>\n",
       "      <td>43153.600016</td>\n",
       "      <td>NaN</td>\n",
       "      <td>3.764662</td>\n",
       "      <td>0.542509</td>\n",
       "      <td>2.074241</td>\n",
       "      <td>17.930020</td>\n",
       "      <td>4.227099</td>\n",
       "      <td>2.658723</td>\n",
       "    </tr>\n",
       "  </tbody>\n",
       "</table>\n",
       "</div>"
      ],
      "text/plain": [
       "       transaction_id               transaction_date  transaction hour  \\\n",
       "count   149116.000000                         149116     149116.000000   \n",
       "mean     74737.371872  2023-04-15 11:50:32.173609984         11.735790   \n",
       "min          1.000000            2023-01-01 00:00:00          6.000000   \n",
       "25%      37335.750000            2023-03-06 00:00:00          9.000000   \n",
       "50%      74727.500000            2023-04-24 00:00:00         11.000000   \n",
       "75%     112094.250000            2023-05-30 00:00:00         15.000000   \n",
       "max     149456.000000            2023-06-30 00:00:00         20.000000   \n",
       "std      43153.600016                            NaN          3.764662   \n",
       "\n",
       "       transaction_qty       store_id     product_id        revenue  \\\n",
       "count    149116.000000  149116.000000  149116.000000  149116.000000   \n",
       "mean          1.438276       5.342063      47.918607       4.686367   \n",
       "min           1.000000       3.000000       1.000000       0.800000   \n",
       "25%           1.000000       3.000000      33.000000       3.000000   \n",
       "50%           1.000000       5.000000      47.000000       3.750000   \n",
       "75%           2.000000       8.000000      60.000000       6.000000   \n",
       "max           8.000000       8.000000      87.000000     360.000000   \n",
       "std           0.542509       2.074241      17.930020       4.227099   \n",
       "\n",
       "          unit_price  \n",
       "count  149116.000000  \n",
       "mean        3.382219  \n",
       "min         0.800000  \n",
       "25%         2.500000  \n",
       "50%         3.000000  \n",
       "75%         3.750000  \n",
       "max        45.000000  \n",
       "std         2.658723  "
      ]
     },
     "execution_count": 17,
     "metadata": {},
     "output_type": "execute_result"
    }
   ],
   "source": [
    "coffedata.describe()"
   ]
  },
  {
   "cell_type": "markdown",
   "id": "81f9d674-eedb-432d-b838-db16ac3952b9",
   "metadata": {},
   "source": [
    "# Graphical visualization of a trend"
   ]
  },
  {
   "cell_type": "code",
   "execution_count": 26,
   "id": "2ae04921-9517-49b6-bc49-00e8888d4212",
   "metadata": {},
   "outputs": [
    {
     "data": {
      "image/png": "[encoded data removed]",
      "text/plain": [
       "<Figure size 640x480 with 1 Axes>"
      ]
     },
     "metadata": {},
     "output_type": "display_data"
    }
   ],
   "source": [
    "fig, ax = plt.subplots()\n",
    "ax.bar(coffedata['product_type'],coffedata['revenue'])\n",
    "plt.xlabel('product_type', fontsize=10)\n",
    "plt.ylabel('reveune', fontsize=10)\n",
    "plt.title('reveune and product type')\n",
    "plt.xticks(rotation=90, ha='right')\n",
    "plt.show()\n"
   ]
  },
  {
   "cell_type": "code",
   "execution_count": null,
   "id": "313f5d03-3605-482d-ace1-9da94b040504",
   "metadata": {},
   "outputs": [],
   "source": []
  }
 ],
 "metadata": {
  "kernelspec": {
   "display_name": "Python 3 (ipykernel)",
   "language": "python",
   "name": "python3"
  },
  "language_info": {
   "codemirror_mode": {
    "name": "ipython",
    "version": 3
   },
   "file_extension": ".py",
   "mimetype": "text/x-python",
   "name": "python",
   "nbconvert_exporter": "python",
   "pygments_lexer": "ipython3",
   "version": "3.12.7"
  }
 },
 "nbformat": 4,
 "nbformat_minor": 5
}
